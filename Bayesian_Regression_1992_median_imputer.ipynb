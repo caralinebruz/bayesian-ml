{
  "nbformat": 4,
  "nbformat_minor": 0,
  "metadata": {
    "colab": {
      "provenance": []
    },
    "kernelspec": {
      "name": "python3",
      "display_name": "Python 3"
    },
    "language_info": {
      "name": "python"
    }
  },
  "cells": [
    {
      "cell_type": "code",
      "source": [
        "# !pip show tensorflow"
      ],
      "metadata": {
        "id": "6CPagfdOfUIk"
      },
      "execution_count": null,
      "outputs": []
    },
    {
      "cell_type": "code",
      "source": [
        "# !pip show pymc"
      ],
      "metadata": {
        "id": "qMonKgrFffj2"
      },
      "execution_count": null,
      "outputs": []
    },
    {
      "cell_type": "code",
      "source": [
        "# This file applies bayesian bernuolli regression to the [1995] wisconsin breast cancer dataset.\n",
        "# The 1995 dataset is based on the original [1992] dataset,\n",
        "# for which the 1995 dataset has been cleaned and missing values have been imputed"
      ],
      "metadata": {
        "id": "uP0UbqwOu78A"
      },
      "execution_count": null,
      "outputs": []
    },
    {
      "cell_type": "code",
      "source": [
        "import numpy as np\n",
        "import pymc as pm\n",
        "import pandas as pd\n",
        "\n",
        "\n",
        "from sklearn.model_selection import train_test_split\n",
        "from sklearn.preprocessing import StandardScaler"
      ],
      "metadata": {
        "id": "hI-DnhMefmfT"
      },
      "execution_count": 1,
      "outputs": []
    },
    {
      "cell_type": "code",
      "source": [
        "# Load the original dataset\n",
        "\n",
        "# min had to be done in google collab for compatibility issues\n",
        "# yours can be probably done locally\n",
        "from google.colab import drive\n",
        "drive.mount('/content/drive')"
      ],
      "metadata": {
        "colab": {
          "base_uri": "https://localhost:8080/"
        },
        "id": "TzaypUYaO7xH",
        "outputId": "57fe92c5-5574-4d8e-b252-3a36f25e95f8"
      },
      "execution_count": 2,
      "outputs": [
        {
          "output_type": "stream",
          "name": "stdout",
          "text": [
            "Mounted at /content/drive\n"
          ]
        }
      ]
    },
    {
      "cell_type": "code",
      "source": [
        "dataset = pd.read_csv('/content/drive/MyDrive/1992.csv')"
      ],
      "metadata": {
        "id": "1-AqYEyePIiQ"
      },
      "execution_count": 3,
      "outputs": []
    },
    {
      "cell_type": "code",
      "source": [
        "# see whats missing\n",
        "missing_values_count = dataset.isna().sum()\n",
        "missing_values_count"
      ],
      "metadata": {
        "id": "1jcl15oQfOgH",
        "colab": {
          "base_uri": "https://localhost:8080/"
        },
        "outputId": "b2a27813-f09e-41a2-d8d0-2c5c66ffa806"
      },
      "execution_count": 4,
      "outputs": [
        {
          "output_type": "execute_result",
          "data": {
            "text/plain": [
              "id                              0\n",
              "Clump_thickness                 0\n",
              "Uniformity_of_cell_size         0\n",
              "Uniformity_of_cell_shape        0\n",
              "Marginal_adhesion               0\n",
              "Single_epithelial_cell_size     0\n",
              "Bare_nuclei                    16\n",
              "Bland_chromatin                 0\n",
              "Normal_nucleoli                 0\n",
              "Mitoses                         0\n",
              "diagnosis                       0\n",
              "dtype: int64"
            ]
          },
          "metadata": {},
          "execution_count": 4
        }
      ]
    },
    {
      "cell_type": "code",
      "source": [
        "# basic - impute with median\n",
        "import pandas as pd\n",
        "import numpy as np\n",
        "from scipy.stats import skew\n",
        "\n",
        "# Function to determine filling strategy\n",
        "def filling_strategy(column):\n",
        "    if pd.isna(column).sum() == 0:\n",
        "        return column  # No NaNs in the column\n",
        "    skewness = skew(column.dropna())\n",
        "    zero_portion = (column == 0).sum() / len(column)\n",
        "\n",
        "    if abs(skewness) < 0.5 and zero_portion < 0.1:  # Thresholds can be adjusted\n",
        "        print(\"mean\")\n",
        "        return column.fillna(column.mean())\n",
        "    elif zero_portion >= 0.1:\n",
        "        print(\"constant\")\n",
        "        return column.fillna(0)\n",
        "    else:\n",
        "        print(\"median\")\n",
        "        return column.fillna(column.median())"
      ],
      "metadata": {
        "id": "vFr3mDUF7blr"
      },
      "execution_count": 5,
      "outputs": []
    },
    {
      "cell_type": "code",
      "source": [
        "# Apply the function to each column\n",
        "dataset = dataset.apply(filling_strategy)"
      ],
      "metadata": {
        "colab": {
          "base_uri": "https://localhost:8080/"
        },
        "id": "B_a_45747vMj",
        "outputId": "06936151-4df7-404d-954b-d30ae41e69e5"
      },
      "execution_count": 6,
      "outputs": [
        {
          "output_type": "stream",
          "name": "stdout",
          "text": [
            "median\n"
          ]
        }
      ]
    },
    {
      "cell_type": "code",
      "source": [
        "# Separate features and target variable\n",
        "\n",
        "# use 'diagnosis' column as the labels\n",
        "dataset.rename(columns={'diagnosis': 'label'}, inplace=True)\n",
        "y = dataset['label']  # Target variable\n",
        "y = y.map({2: 0, 4: 1})\n"
      ],
      "metadata": {
        "id": "6041tekJPIkU"
      },
      "execution_count": 7,
      "outputs": []
    },
    {
      "cell_type": "code",
      "source": [
        "y"
      ],
      "metadata": {
        "colab": {
          "base_uri": "https://localhost:8080/"
        },
        "id": "y1Z0QN_EksYE",
        "outputId": "9d9e70b0-c81b-4709-d7b2-c9b9add47a8e"
      },
      "execution_count": 8,
      "outputs": [
        {
          "output_type": "execute_result",
          "data": {
            "text/plain": [
              "0      0\n",
              "1      0\n",
              "2      0\n",
              "3      0\n",
              "4      0\n",
              "      ..\n",
              "694    0\n",
              "695    0\n",
              "696    1\n",
              "697    1\n",
              "698    1\n",
              "Name: label, Length: 699, dtype: int64"
            ]
          },
          "metadata": {},
          "execution_count": 8
        }
      ]
    },
    {
      "cell_type": "code",
      "source": [
        "# remove ID column from X\n",
        "X = dataset\n",
        "X.drop(['id'], axis=1, inplace=True)\n",
        "X.drop(['label'], axis=1, inplace=True)"
      ],
      "metadata": {
        "id": "zxoKAXsVYVzo"
      },
      "execution_count": 9,
      "outputs": []
    },
    {
      "cell_type": "code",
      "source": [
        "X.columns"
      ],
      "metadata": {
        "colab": {
          "base_uri": "https://localhost:8080/"
        },
        "id": "w90UZF05YqTW",
        "outputId": "f8198264-f345-4ee6-e21d-f1c0e195e770"
      },
      "execution_count": 10,
      "outputs": [
        {
          "output_type": "execute_result",
          "data": {
            "text/plain": [
              "Index(['Clump_thickness', 'Uniformity_of_cell_size',\n",
              "       'Uniformity_of_cell_shape', 'Marginal_adhesion',\n",
              "       'Single_epithelial_cell_size', 'Bare_nuclei', 'Bland_chromatin',\n",
              "       'Normal_nucleoli', 'Mitoses'],\n",
              "      dtype='object')"
            ]
          },
          "metadata": {},
          "execution_count": 10
        }
      ]
    },
    {
      "cell_type": "code",
      "source": [
        "# see whats missing\n",
        "missing_values_count = dataset.isna().sum()\n",
        "missing_values_count"
      ],
      "metadata": {
        "colab": {
          "base_uri": "https://localhost:8080/"
        },
        "id": "yHwI0WMhPPqh",
        "outputId": "41c58e7a-822d-41df-f77a-c82befa7aa36"
      },
      "execution_count": 11,
      "outputs": [
        {
          "output_type": "execute_result",
          "data": {
            "text/plain": [
              "Clump_thickness                0\n",
              "Uniformity_of_cell_size        0\n",
              "Uniformity_of_cell_shape       0\n",
              "Marginal_adhesion              0\n",
              "Single_epithelial_cell_size    0\n",
              "Bare_nuclei                    0\n",
              "Bland_chromatin                0\n",
              "Normal_nucleoli                0\n",
              "Mitoses                        0\n",
              "dtype: int64"
            ]
          },
          "metadata": {},
          "execution_count": 11
        }
      ]
    },
    {
      "cell_type": "code",
      "source": [
        "import random\n",
        "\n",
        "import arviz as az\n",
        "import matplotlib.cm as cm\n",
        "import matplotlib.pyplot as plt\n",
        "import numpy as np\n",
        "import pandas as pd\n",
        "import pymc as pm\n",
        "import scipy.optimize\n",
        "\n",
        "from matplotlib.lines import Line2D\n",
        "from pymc.sampling.jax import sample_blackjax_nuts, sample_numpyro_nuts\n",
        "from scipy.stats import multivariate_normal\n",
        "\n",
        "fig, ax = plt.subplots(figsize=(20, 7))\n",
        "ax.hist(dataset[\"Bare_nuclei\"], bins=30, ec=\"black\", color=\"cyan\", label=\"Bare_nuclei\")\n",
        "ax.set_title(\"Bare_nuclei data\", fontsize=20)\n",
        "ax.legend();"
      ],
      "metadata": {
        "colab": {
          "base_uri": "https://localhost:8080/",
          "height": 387
        },
        "id": "rAb4KC-1PioC",
        "outputId": "aaf7461b-9843-400f-e0b3-189c0b8e7e1e"
      },
      "execution_count": 12,
      "outputs": [
        {
          "output_type": "display_data",
          "data": {
            "text/plain": [
              "<Figure size 2000x700 with 1 Axes>"
            ],
            "image/png": "[encoded data removed]"
          },
          "metadata": {}
        }
      ]
    },
    {
      "cell_type": "code",
      "source": [
        "# SO, the column which contains missing values (Bare Nuclei) is not normally distributed\n",
        "# it is some U-shaped distribution. thoughts? beta? if beta, need to be in 0,1 excl boundary"
      ],
      "metadata": {
        "id": "NZltKTT6PiqI"
      },
      "execution_count": null,
      "outputs": []
    },
    {
      "cell_type": "code",
      "source": [
        "X.columns"
      ],
      "metadata": {
        "colab": {
          "base_uri": "https://localhost:8080/"
        },
        "id": "a56uVNK1f2L_",
        "outputId": "f4463b72-1d8b-4e35-cb16-24b779c14df2"
      },
      "execution_count": 13,
      "outputs": [
        {
          "output_type": "execute_result",
          "data": {
            "text/plain": [
              "Index(['Clump_thickness', 'Uniformity_of_cell_size',\n",
              "       'Uniformity_of_cell_shape', 'Marginal_adhesion',\n",
              "       'Single_epithelial_cell_size', 'Bare_nuclei', 'Bland_chromatin',\n",
              "       'Normal_nucleoli', 'Mitoses'],\n",
              "      dtype='object')"
            ]
          },
          "metadata": {},
          "execution_count": 13
        }
      ]
    },
    {
      "cell_type": "code",
      "source": [
        "X['Bare_nuclei'].unique()"
      ],
      "metadata": {
        "colab": {
          "base_uri": "https://localhost:8080/"
        },
        "id": "c2dc-jrhPlcf",
        "outputId": "535c2f0d-bc0f-4428-9db7-ac882d7b2a5e"
      },
      "execution_count": 15,
      "outputs": [
        {
          "output_type": "execute_result",
          "data": {
            "text/plain": [
              "array([ 1., 10.,  2.,  4.,  3.,  9.,  7.,  5.,  8.,  6.])"
            ]
          },
          "metadata": {},
          "execution_count": 15
        }
      ]
    },
    {
      "cell_type": "code",
      "source": [
        "# scale\n",
        "scaler = StandardScaler()\n",
        "X_scaled = scaler.fit_transform(X)"
      ],
      "metadata": {
        "id": "dZH2ybvViNOn"
      },
      "execution_count": 16,
      "outputs": []
    },
    {
      "cell_type": "code",
      "source": [
        "# Test/Train Split\n",
        "X_train, X_test, y_train, y_test = train_test_split(X_scaled, y, test_size=0.2, random_state=42)"
      ],
      "metadata": {
        "id": "dzipEcuSf_gu"
      },
      "execution_count": 17,
      "outputs": []
    },
    {
      "cell_type": "code",
      "source": [
        "X_train"
      ],
      "metadata": {
        "colab": {
          "base_uri": "https://localhost:8080/"
        },
        "id": "nx8WpU9varnn",
        "outputId": "9cac0b66-153f-4758-8a5f-febc2f8bf80a"
      },
      "execution_count": 18,
      "outputs": [
        {
          "output_type": "execute_result",
          "data": {
            "text/plain": [
              "array([[ 0.20693572, -0.37204831, -0.74329904, ..., -0.17966213,\n",
              "        -0.61182504, -0.34391178],\n",
              "       [ 0.20693572, -0.04410156, -0.06984988, ..., -0.17966213,\n",
              "         0.37131451, -0.34391178],\n",
              "       [-1.2146669 , -0.69999505, -0.74329904, ..., -0.17966213,\n",
              "        -0.61182504, -0.34391178],\n",
              "       ...,\n",
              "       [ 1.27313768,  0.28384518,  1.27704844, ..., -0.17966213,\n",
              "         2.00988041,  0.23956962],\n",
              "       [ 1.983939  ,  1.59563215,  2.28722218, ...,  0.64114721,\n",
              "        -0.61182504, -0.34391178],\n",
              "       [-0.14846494, -0.69999505, -0.40657446, ..., -0.17966213,\n",
              "        -0.61182504, -0.34391178]])"
            ]
          },
          "metadata": {},
          "execution_count": 18
        }
      ]
    },
    {
      "cell_type": "code",
      "source": [
        "num_features = X_train.shape[1]\n",
        "num_features"
      ],
      "metadata": {
        "colab": {
          "base_uri": "https://localhost:8080/"
        },
        "id": "r3jywOoShnx_",
        "outputId": "d6c870a9-3c2d-4be2-af3d-80faeaf75c92"
      },
      "execution_count": 19,
      "outputs": [
        {
          "output_type": "execute_result",
          "data": {
            "text/plain": [
              "9"
            ]
          },
          "metadata": {},
          "execution_count": 19
        }
      ]
    },
    {
      "cell_type": "code",
      "source": [
        "# sample all points tbh.... dataset is so small.\n",
        "num_samples = X_train.shape[0]\n",
        "num_samples"
      ],
      "metadata": {
        "colab": {
          "base_uri": "https://localhost:8080/"
        },
        "id": "pkgzUA9xgDB1",
        "outputId": "e0eba4b8-9500-4891-b2e0-aadf3efd3b49"
      },
      "execution_count": 20,
      "outputs": [
        {
          "output_type": "execute_result",
          "data": {
            "text/plain": [
              "559"
            ]
          },
          "metadata": {},
          "execution_count": 20
        }
      ]
    },
    {
      "cell_type": "code",
      "source": [
        "#\n",
        "# set up the model\n",
        "#\n",
        "bayesian_bernuolli_model = pm.Model()\n",
        "\n",
        "with bayesian_bernuolli_model:\n",
        "\n",
        "    # priors for theta and bias term\n",
        "    b0 = pm.Normal(\"b0\", mu=0, sigma=10) # bias term, normally distributed is fine\n",
        "    thetas = pm.Normal(\"thetas\", mu=0, sigma=10, shape=num_features) # dim thetas =30, normally distributed prior is fine\n",
        "\n",
        "    # ultimately, p = sigmoid(a + thetaX)\n",
        "    predictor = b0 + pm.math.dot(X_train, thetas) # can't be np object, use pm math\n",
        "\n",
        "    # sigmoid function (transfer or response function)\n",
        "    # maps thetaX to a probability [0,1]\n",
        "    h_x = pm.math.sigmoid(predictor)\n",
        "\n",
        "    # likelihood function for a binary outcome (Bernoulli distribution)\n",
        "    # p = probability that Y=1\n",
        "    likelihood = pm.Bernoulli('likelihood', p=h_x, observed=y_train)\n",
        "    # likelihood = p(D|theta)"
      ],
      "metadata": {
        "id": "yhVlrpyxgnYo"
      },
      "execution_count": 21,
      "outputs": []
    },
    {
      "cell_type": "code",
      "source": [
        "#\n",
        "# perform MCMC sampling to draw from the posterior distribution of my params.\n",
        "#  * for each theta, generate a distribution based on data and prior\n",
        "#\n",
        "with bayesian_bernuolli_model:\n",
        "\n",
        "    # 'sample' traverses the graph and generate samples from the posterior distribution\n",
        "    # trace = pm.sample(draws=num_samples, tune=1000)\n",
        "    trace = pm.sample(draws=500, tune=1000)"
      ],
      "metadata": {
        "colab": {
          "base_uri": "https://localhost:8080/",
          "height": 57
        },
        "id": "EkHgGwhNn_2T",
        "outputId": "8b41444b-3805-444b-b29b-d5b1045a6508"
      },
      "execution_count": 22,
      "outputs": [
        {
          "output_type": "display_data",
          "data": {
            "text/plain": [
              "<IPython.core.display.HTML object>"
            ],
            "text/html": [
              "\n",
              "<style>\n",
              "    /* Turns off some styling */\n",
              "    progress {\n",
              "        /* gets rid of default border in Firefox and Opera. */\n",
              "        border: none;\n",
              "        /* Needs to be in here for Safari polyfill so background images work as expected. */\n",
              "        background-size: auto;\n",
              "    }\n",
              "    progress:not([value]), progress:not([value])::-webkit-progress-bar {\n",
              "        background: repeating-linear-gradient(45deg, #7e7e7e, #7e7e7e 10px, #5c5c5c 10px, #5c5c5c 20px);\n",
              "    }\n",
              "    .progress-bar-interrupted, .progress-bar-interrupted::-webkit-progress-bar {\n",
              "        background: #F44336;\n",
              "    }\n",
              "</style>\n"
            ]
          },
          "metadata": {}
        },
        {
          "output_type": "display_data",
          "data": {
            "text/plain": [
              "<IPython.core.display.HTML object>"
            ],
            "text/html": [
              "\n",
              "    <div>\n",
              "      <progress value='1500' class='' max='1500' style='width:300px; height:20px; vertical-align: middle;'></progress>\n",
              "      100.00% [1500/1500 00:04&lt;00:00 Sampling chain 0, 0 divergences]\n",
              "    </div>\n",
              "    "
            ]
          },
          "metadata": {}
        },
        {
          "output_type": "display_data",
          "data": {
            "text/plain": [
              "<IPython.core.display.HTML object>"
            ],
            "text/html": [
              "\n",
              "<style>\n",
              "    /* Turns off some styling */\n",
              "    progress {\n",
              "        /* gets rid of default border in Firefox and Opera. */\n",
              "        border: none;\n",
              "        /* Needs to be in here for Safari polyfill so background images work as expected. */\n",
              "        background-size: auto;\n",
              "    }\n",
              "    progress:not([value]), progress:not([value])::-webkit-progress-bar {\n",
              "        background: repeating-linear-gradient(45deg, #7e7e7e, #7e7e7e 10px, #5c5c5c 10px, #5c5c5c 20px);\n",
              "    }\n",
              "    .progress-bar-interrupted, .progress-bar-interrupted::-webkit-progress-bar {\n",
              "        background: #F44336;\n",
              "    }\n",
              "</style>\n"
            ]
          },
          "metadata": {}
        },
        {
          "output_type": "display_data",
          "data": {
            "text/plain": [
              "<IPython.core.display.HTML object>"
            ],
            "text/html": [
              "\n",
              "    <div>\n",
              "      <progress value='1500' class='' max='1500' style='width:300px; height:20px; vertical-align: middle;'></progress>\n",
              "      100.00% [1500/1500 00:04&lt;00:00 Sampling chain 1, 0 divergences]\n",
              "    </div>\n",
              "    "
            ]
          },
          "metadata": {}
        }
      ]
    },
    {
      "cell_type": "code",
      "source": [
        "# ensure that there is convergence\n",
        "pm.plot_trace(trace)\n",
        "pm.summary(trace).round(2)"
      ],
      "metadata": {
        "colab": {
          "base_uri": "https://localhost:8080/",
          "height": 824
        },
        "id": "G2XFuuMU8PpS",
        "outputId": "5039d3f2-4689-414b-e955-54973e734c32"
      },
      "execution_count": 23,
      "outputs": [
        {
          "output_type": "stream",
          "name": "stderr",
          "text": [
            "/usr/local/lib/python3.10/dist-packages/arviz/utils.py:184: NumbaDeprecationWarning: The 'nopython' keyword argument was not supplied to the 'numba.jit' decorator. The implicit default value for this argument is currently False, but it will be changed to True in Numba 0.59.0. See https://numba.readthedocs.io/en/stable/reference/deprecation.html#deprecation-of-object-mode-fall-back-behaviour-when-using-jit for details.\n",
            "  numba_fn = numba.jit(**self.kwargs)(self.function)\n",
            "/usr/local/lib/python3.10/dist-packages/arviz/utils.py:184: NumbaDeprecationWarning: The 'nopython' keyword argument was not supplied to the 'numba.jit' decorator. The implicit default value for this argument is currently False, but it will be changed to True in Numba 0.59.0. See https://numba.readthedocs.io/en/stable/reference/deprecation.html#deprecation-of-object-mode-fall-back-behaviour-when-using-jit for details.\n",
            "  numba_fn = numba.jit(**self.kwargs)(self.function)\n"
          ]
        },
        {
          "output_type": "execute_result",
          "data": {
            "text/plain": [
              "           mean    sd  hdi_3%  hdi_97%  mcse_mean  mcse_sd  ess_bulk  \\\n",
              "b0        -1.44  0.39   -2.25    -0.77       0.02     0.01     637.0   \n",
              "thetas[0]  1.68  0.46    0.89     2.61       0.02     0.01     670.0   \n",
              "thetas[1]  0.15  0.75   -1.12     1.53       0.03     0.02     541.0   \n",
              "thetas[2]  1.27  0.79   -0.23     2.67       0.04     0.03     471.0   \n",
              "thetas[3]  0.64  0.39   -0.07     1.31       0.01     0.01     738.0   \n",
              "thetas[4]  0.28  0.37   -0.46     0.97       0.01     0.01    1031.0   \n",
              "thetas[5]  1.78  0.40    1.02     2.52       0.01     0.01     852.0   \n",
              "thetas[6]  1.02  0.41    0.25     1.77       0.01     0.01     811.0   \n",
              "thetas[7]  0.01  0.40   -0.75     0.78       0.01     0.01     896.0   \n",
              "thetas[8]  0.80  0.51   -0.17     1.69       0.02     0.01     855.0   \n",
              "\n",
              "           ess_tail  r_hat  \n",
              "b0            589.0   1.01  \n",
              "thetas[0]     682.0   1.00  \n",
              "thetas[1]     527.0   1.00  \n",
              "thetas[2]     514.0   1.00  \n",
              "thetas[3]     851.0   1.00  \n",
              "thetas[4]     672.0   1.00  \n",
              "thetas[5]     566.0   1.00  \n",
              "thetas[6]     560.0   1.00  \n",
              "thetas[7]     565.0   1.00  \n",
              "thetas[8]     662.0   1.00  "
            ],
            "text/html": [
              "\n",
              "  <div id=\"df-a2d4447b-9655-4b89-a4f5-dc4b14be71d4\" class=\"colab-df-container\">\n",
              "    <div>\n",
              "<style scoped>\n",
              "    .dataframe tbody tr th:only-of-type {\n",
              "        vertical-align: middle;\n",
              "    }\n",
              "\n",
              "    .dataframe tbody tr th {\n",
              "        vertical-align: top;\n",
              "    }\n",
              "\n",
              "    .dataframe thead th {\n",
              "        text-align: right;\n",
              "    }\n",
              "</style>\n",
              "<table border=\"1\" class=\"dataframe\">\n",
              "  <thead>\n",
              "    <tr style=\"text-align: right;\">\n",
              "      <th></th>\n",
              "      <th>mean</th>\n",
              "      <th>sd</th>\n",
              "      <th>hdi_3%</th>\n",
              "      <th>hdi_97%</th>\n",
              "      <th>mcse_mean</th>\n",
              "      <th>mcse_sd</th>\n",
              "      <th>ess_bulk</th>\n",
              "      <th>ess_tail</th>\n",
              "      <th>r_hat</th>\n",
              "    </tr>\n",
              "  </thead>\n",
              "  <tbody>\n",
              "    <tr>\n",
              "      <th>b0</th>\n",
              "      <td>-1.44</td>\n",
              "      <td>0.39</td>\n",
              "      <td>-2.25</td>\n",
              "      <td>-0.77</td>\n",
              "      <td>0.02</td>\n",
              "      <td>0.01</td>\n",
              "      <td>637.0</td>\n",
              "      <td>589.0</td>\n",
              "      <td>1.01</td>\n",
              "    </tr>\n",
              "    <tr>\n",
              "      <th>thetas[0]</th>\n",
              "      <td>1.68</td>\n",
              "      <td>0.46</td>\n",
              "      <td>0.89</td>\n",
              "      <td>2.61</td>\n",
              "      <td>0.02</td>\n",
              "      <td>0.01</td>\n",
              "      <td>670.0</td>\n",
              "      <td>682.0</td>\n",
              "      <td>1.00</td>\n",
              "    </tr>\n",
              "    <tr>\n",
              "      <th>thetas[1]</th>\n",
              "      <td>0.15</td>\n",
              "      <td>0.75</td>\n",
              "      <td>-1.12</td>\n",
              "      <td>1.53</td>\n",
              "      <td>0.03</td>\n",
              "      <td>0.02</td>\n",
              "      <td>541.0</td>\n",
              "      <td>527.0</td>\n",
              "      <td>1.00</td>\n",
              "    </tr>\n",
              "    <tr>\n",
              "      <th>thetas[2]</th>\n",
              "      <td>1.27</td>\n",
              "      <td>0.79</td>\n",
              "      <td>-0.23</td>\n",
              "      <td>2.67</td>\n",
              "      <td>0.04</td>\n",
              "      <td>0.03</td>\n",
              "      <td>471.0</td>\n",
              "      <td>514.0</td>\n",
              "      <td>1.00</td>\n",
              "    </tr>\n",
              "    <tr>\n",
              "      <th>thetas[3]</th>\n",
              "      <td>0.64</td>\n",
              "      <td>0.39</td>\n",
              "      <td>-0.07</td>\n",
              "      <td>1.31</td>\n",
              "      <td>0.01</td>\n",
              "      <td>0.01</td>\n",
              "      <td>738.0</td>\n",
              "      <td>851.0</td>\n",
              "      <td>1.00</td>\n",
              "    </tr>\n",
              "    <tr>\n",
              "      <th>thetas[4]</th>\n",
              "      <td>0.28</td>\n",
              "      <td>0.37</td>\n",
              "      <td>-0.46</td>\n",
              "      <td>0.97</td>\n",
              "      <td>0.01</td>\n",
              "      <td>0.01</td>\n",
              "      <td>1031.0</td>\n",
              "      <td>672.0</td>\n",
              "      <td>1.00</td>\n",
              "    </tr>\n",
              "    <tr>\n",
              "      <th>thetas[5]</th>\n",
              "      <td>1.78</td>\n",
              "      <td>0.40</td>\n",
              "      <td>1.02</td>\n",
              "      <td>2.52</td>\n",
              "      <td>0.01</td>\n",
              "      <td>0.01</td>\n",
              "      <td>852.0</td>\n",
              "      <td>566.0</td>\n",
              "      <td>1.00</td>\n",
              "    </tr>\n",
              "    <tr>\n",
              "      <th>thetas[6]</th>\n",
              "      <td>1.02</td>\n",
              "      <td>0.41</td>\n",
              "      <td>0.25</td>\n",
              "      <td>1.77</td>\n",
              "      <td>0.01</td>\n",
              "      <td>0.01</td>\n",
              "      <td>811.0</td>\n",
              "      <td>560.0</td>\n",
              "      <td>1.00</td>\n",
              "    </tr>\n",
              "    <tr>\n",
              "      <th>thetas[7]</th>\n",
              "      <td>0.01</td>\n",
              "      <td>0.40</td>\n",
              "      <td>-0.75</td>\n",
              "      <td>0.78</td>\n",
              "      <td>0.01</td>\n",
              "      <td>0.01</td>\n",
              "      <td>896.0</td>\n",
              "      <td>565.0</td>\n",
              "      <td>1.00</td>\n",
              "    </tr>\n",
              "    <tr>\n",
              "      <th>thetas[8]</th>\n",
              "      <td>0.80</td>\n",
              "      <td>0.51</td>\n",
              "      <td>-0.17</td>\n",
              "      <td>1.69</td>\n",
              "      <td>0.02</td>\n",
              "      <td>0.01</td>\n",
              "      <td>855.0</td>\n",
              "      <td>662.0</td>\n",
              "      <td>1.00</td>\n",
              "    </tr>\n",
              "  </tbody>\n",
              "</table>\n",
              "</div>\n",
              "    <div class=\"colab-df-buttons\">\n",
              "\n",
              "  <div class=\"colab-df-container\">\n",
              "    <button class=\"colab-df-convert\" onclick=\"convertToInteractive('df-a2d4447b-9655-4b89-a4f5-dc4b14be71d4')\"\n",
              "            title=\"Convert this dataframe to an interactive table.\"\n",
              "            style=\"display:none;\">\n",
              "\n",
              "  <svg xmlns=\"http://www.w3.org/2000/svg\" height=\"24px\" viewBox=\"0 -960 960 960\">\n",
              "    <path d=\"M120-120v-720h720v720H120Zm60-500h600v-160H180v160Zm220 220h160v-160H400v160Zm0 220h160v-160H400v160ZM180-400h160v-160H180v160Zm440 0h160v-160H620v160ZM180-180h160v-160H180v160Zm440 0h160v-160H620v160Z\"/>\n",
              "  </svg>\n",
              "    </button>\n",
              "\n",
              "  <style>\n",
              "    .colab-df-container {\n",
              "      display:flex;\n",
              "      gap: 12px;\n",
              "    }\n",
              "\n",
              "    .colab-df-convert {\n",
              "      background-color: #E8F0FE;\n",
              "      border: none;\n",
              "      border-radius: 50%;\n",
              "      cursor: pointer;\n",
              "      display: none;\n",
              "      fill: #1967D2;\n",
              "      height: 32px;\n",
              "      padding: 0 0 0 0;\n",
              "      width: 32px;\n",
              "    }\n",
              "\n",
              "    .colab-df-convert:hover {\n",
              "      background-color: #E2EBFA;\n",
              "      box-shadow: 0px 1px 2px rgba(60, 64, 67, 0.3), 0px 1px 3px 1px rgba(60, 64, 67, 0.15);\n",
              "      fill: #174EA6;\n",
              "    }\n",
              "\n",
              "    .colab-df-buttons div {\n",
              "      margin-bottom: 4px;\n",
              "    }\n",
              "\n",
              "    [theme=dark] .colab-df-convert {\n",
              "      background-color: #3B4455;\n",
              "      fill: #D2E3FC;\n",
              "    }\n",
              "\n",
              "    [theme=dark] .colab-df-convert:hover {\n",
              "      background-color: #434B5C;\n",
              "      box-shadow: 0px 1px 3px 1px rgba(0, 0, 0, 0.15);\n",
              "      filter: drop-shadow(0px 1px 2px rgba(0, 0, 0, 0.3));\n",
              "      fill: #FFFFFF;\n",
              "    }\n",
              "  </style>\n",
              "\n",
              "    <script>\n",
              "      const buttonEl =\n",
              "        document.querySelector('#df-a2d4447b-9655-4b89-a4f5-dc4b14be71d4 button.colab-df-convert');\n",
              "      buttonEl.style.display =\n",
              "        google.colab.kernel.accessAllowed ? 'block' : 'none';\n",
              "\n",
              "      async function convertToInteractive(key) {\n",
              "        const element = document.querySelector('#df-a2d4447b-9655-4b89-a4f5-dc4b14be71d4');\n",
              "        const dataTable =\n",
              "          await google.colab.kernel.invokeFunction('convertToInteractive',\n",
              "                                                    [key], {});\n",
              "        if (!dataTable) return;\n",
              "\n",
              "        const docLinkHtml = 'Like what you see? Visit the ' +\n",
              "          '<a target=\"_blank\" href=https://colab.research.google.com/notebooks/data_table.ipynb>data table notebook</a>'\n",
              "          + ' to learn more about interactive tables.';\n",
              "        element.innerHTML = '';\n",
              "        dataTable['output_type'] = 'display_data';\n",
              "        await google.colab.output.renderOutput(dataTable, element);\n",
              "        const docLink = document.createElement('div');\n",
              "        docLink.innerHTML = docLinkHtml;\n",
              "        element.appendChild(docLink);\n",
              "      }\n",
              "    </script>\n",
              "  </div>\n",
              "\n",
              "\n",
              "<div id=\"df-09f771ca-ab36-4063-beeb-b887966ac1cb\">\n",
              "  <button class=\"colab-df-quickchart\" onclick=\"quickchart('df-09f771ca-ab36-4063-beeb-b887966ac1cb')\"\n",
              "            title=\"Suggest charts\"\n",
              "            style=\"display:none;\">\n",
              "\n",
              "<svg xmlns=\"http://www.w3.org/2000/svg\" height=\"24px\"viewBox=\"0 0 24 24\"\n",
              "     width=\"24px\">\n",
              "    <g>\n",
              "        <path d=\"M19 3H5c-1.1 0-2 .9-2 2v14c0 1.1.9 2 2 2h14c1.1 0 2-.9 2-2V5c0-1.1-.9-2-2-2zM9 17H7v-7h2v7zm4 0h-2V7h2v10zm4 0h-2v-4h2v4z\"/>\n",
              "    </g>\n",
              "</svg>\n",
              "  </button>\n",
              "\n",
              "<style>\n",
              "  .colab-df-quickchart {\n",
              "      --bg-color: #E8F0FE;\n",
              "      --fill-color: #1967D2;\n",
              "      --hover-bg-color: #E2EBFA;\n",
              "      --hover-fill-color: #174EA6;\n",
              "      --disabled-fill-color: #AAA;\n",
              "      --disabled-bg-color: #DDD;\n",
              "  }\n",
              "\n",
              "  [theme=dark] .colab-df-quickchart {\n",
              "      --bg-color: #3B4455;\n",
              "      --fill-color: #D2E3FC;\n",
              "      --hover-bg-color: #434B5C;\n",
              "      --hover-fill-color: #FFFFFF;\n",
              "      --disabled-bg-color: #3B4455;\n",
              "      --disabled-fill-color: #666;\n",
              "  }\n",
              "\n",
              "  .colab-df-quickchart {\n",
              "    background-color: var(--bg-color);\n",
              "    border: none;\n",
              "    border-radius: 50%;\n",
              "    cursor: pointer;\n",
              "    display: none;\n",
              "    fill: var(--fill-color);\n",
              "    height: 32px;\n",
              "    padding: 0;\n",
              "    width: 32px;\n",
              "  }\n",
              "\n",
              "  .colab-df-quickchart:hover {\n",
              "    background-color: var(--hover-bg-color);\n",
              "    box-shadow: 0 1px 2px rgba(60, 64, 67, 0.3), 0 1px 3px 1px rgba(60, 64, 67, 0.15);\n",
              "    fill: var(--button-hover-fill-color);\n",
              "  }\n",
              "\n",
              "  .colab-df-quickchart-complete:disabled,\n",
              "  .colab-df-quickchart-complete:disabled:hover {\n",
              "    background-color: var(--disabled-bg-color);\n",
              "    fill: var(--disabled-fill-color);\n",
              "    box-shadow: none;\n",
              "  }\n",
              "\n",
              "  .colab-df-spinner {\n",
              "    border: 2px solid var(--fill-color);\n",
              "    border-color: transparent;\n",
              "    border-bottom-color: var(--fill-color);\n",
              "    animation:\n",
              "      spin 1s steps(1) infinite;\n",
              "  }\n",
              "\n",
              "  @keyframes spin {\n",
              "    0% {\n",
              "      border-color: transparent;\n",
              "      border-bottom-color: var(--fill-color);\n",
              "      border-left-color: var(--fill-color);\n",
              "    }\n",
              "    20% {\n",
              "      border-color: transparent;\n",
              "      border-left-color: var(--fill-color);\n",
              "      border-top-color: var(--fill-color);\n",
              "    }\n",
              "    30% {\n",
              "      border-color: transparent;\n",
              "      border-left-color: var(--fill-color);\n",
              "      border-top-color: var(--fill-color);\n",
              "      border-right-color: var(--fill-color);\n",
              "    }\n",
              "    40% {\n",
              "      border-color: transparent;\n",
              "      border-right-color: var(--fill-color);\n",
              "      border-top-color: var(--fill-color);\n",
              "    }\n",
              "    60% {\n",
              "      border-color: transparent;\n",
              "      border-right-color: var(--fill-color);\n",
              "    }\n",
              "    80% {\n",
              "      border-color: transparent;\n",
              "      border-right-color: var(--fill-color);\n",
              "      border-bottom-color: var(--fill-color);\n",
              "    }\n",
              "    90% {\n",
              "      border-color: transparent;\n",
              "      border-bottom-color: var(--fill-color);\n",
              "    }\n",
              "  }\n",
              "</style>\n",
              "\n",
              "  <script>\n",
              "    async function quickchart(key) {\n",
              "      const quickchartButtonEl =\n",
              "        document.querySelector('#' + key + ' button');\n",
              "      quickchartButtonEl.disabled = true;  // To prevent multiple clicks.\n",
              "      quickchartButtonEl.classList.add('colab-df-spinner');\n",
              "      try {\n",
              "        const charts = await google.colab.kernel.invokeFunction(\n",
              "            'suggestCharts', [key], {});\n",
              "      } catch (error) {\n",
              "        console.error('Error during call to suggestCharts:', error);\n",
              "      }\n",
              "      quickchartButtonEl.classList.remove('colab-df-spinner');\n",
              "      quickchartButtonEl.classList.add('colab-df-quickchart-complete');\n",
              "    }\n",
              "    (() => {\n",
              "      let quickchartButtonEl =\n",
              "        document.querySelector('#df-09f771ca-ab36-4063-beeb-b887966ac1cb button');\n",
              "      quickchartButtonEl.style.display =\n",
              "        google.colab.kernel.accessAllowed ? 'block' : 'none';\n",
              "    })();\n",
              "  </script>\n",
              "</div>\n",
              "\n",
              "    </div>\n",
              "  </div>\n"
            ]
          },
          "metadata": {},
          "execution_count": 23
        },
        {
          "output_type": "display_data",
          "data": {
            "text/plain": [
              "<Figure size 1200x400 with 4 Axes>"
            ],
            "image/png": "[encoded data removed]"
          },
          "metadata": {}
        }
      ]
    },
    {
      "cell_type": "code",
      "source": [
        "# need to take mean across all chains and draws\n",
        "trace.posterior['thetas'].mean(dim=['chain', 'draw'])"
      ],
      "metadata": {
        "colab": {
          "base_uri": "https://localhost:8080/",
          "height": 278
        },
        "id": "nDGYeLdoFETz",
        "outputId": "786eae42-9241-42a9-d52a-60c2800abcb3"
      },
      "execution_count": 24,
      "outputs": [
        {
          "output_type": "execute_result",
          "data": {
            "text/plain": [
              "<xarray.DataArray 'thetas' (thetas_dim_0: 9)>\n",
              "array([1.68406934, 0.14858885, 1.27136152, 0.64216146, 0.28356934,\n",
              "       1.77629435, 1.01802985, 0.01017179, 0.79584052])\n",
              "Coordinates:\n",
              "  * thetas_dim_0  (thetas_dim_0) int64 0 1 2 3 4 5 6 7 8"
            ],
            "text/html": [
              "<div><svg style=\"position: absolute; width: 0; height: 0; overflow: hidden\">\n",
              "<defs>\n",
              "<symbol id=\"icon-database\" viewBox=\"0 0 32 32\">\n",
              "<path d=\"M16 0c-8.837 0-16 2.239-16 5v4c0 2.761 7.163 5 16 5s16-2.239 16-5v-4c0-2.761-7.163-5-16-5z\"></path>\n",
              "<path d=\"M16 17c-8.837 0-16-2.239-16-5v6c0 2.761 7.163 5 16 5s16-2.239 16-5v-6c0 2.761-7.163 5-16 5z\"></path>\n",
              "<path d=\"M16 26c-8.837 0-16-2.239-16-5v6c0 2.761 7.163 5 16 5s16-2.239 16-5v-6c0 2.761-7.163 5-16 5z\"></path>\n",
              "</symbol>\n",
              "<symbol id=\"icon-file-text2\" viewBox=\"0 0 32 32\">\n",
              "<path d=\"M28.681 7.159c-0.694-0.947-1.662-2.053-2.724-3.116s-2.169-2.030-3.116-2.724c-1.612-1.182-2.393-1.319-2.841-1.319h-15.5c-1.378 0-2.5 1.121-2.5 2.5v27c0 1.378 1.122 2.5 2.5 2.5h23c1.378 0 2.5-1.122 2.5-2.5v-19.5c0-0.448-0.137-1.23-1.319-2.841zM24.543 5.457c0.959 0.959 1.712 1.825 2.268 2.543h-4.811v-4.811c0.718 0.556 1.584 1.309 2.543 2.268zM28 29.5c0 0.271-0.229 0.5-0.5 0.5h-23c-0.271 0-0.5-0.229-0.5-0.5v-27c0-0.271 0.229-0.5 0.5-0.5 0 0 15.499-0 15.5 0v7c0 0.552 0.448 1 1 1h7v19.5z\"></path>\n",
              "<path d=\"M23 26h-14c-0.552 0-1-0.448-1-1s0.448-1 1-1h14c0.552 0 1 0.448 1 1s-0.448 1-1 1z\"></path>\n",
              "<path d=\"M23 22h-14c-0.552 0-1-0.448-1-1s0.448-1 1-1h14c0.552 0 1 0.448 1 1s-0.448 1-1 1z\"></path>\n",
              "<path d=\"M23 18h-14c-0.552 0-1-0.448-1-1s0.448-1 1-1h14c0.552 0 1 0.448 1 1s-0.448 1-1 1z\"></path>\n",
              "</symbol>\n",
              "</defs>\n",
              "</svg>\n",
              "<style>/* CSS stylesheet for displaying xarray objects in jupyterlab.\n",
              " *\n",
              " */\n",
              "\n",
              ":root {\n",
              "  --xr-font-color0: var(--jp-content-font-color0, rgba(0, 0, 0, 1));\n",
              "  --xr-font-color2: var(--jp-content-font-color2, rgba(0, 0, 0, 0.54));\n",
              "  --xr-font-color3: var(--jp-content-font-color3, rgba(0, 0, 0, 0.38));\n",
              "  --xr-border-color: var(--jp-border-color2, #e0e0e0);\n",
              "  --xr-disabled-color: var(--jp-layout-color3, #bdbdbd);\n",
              "  --xr-background-color: var(--jp-layout-color0, white);\n",
              "  --xr-background-color-row-even: var(--jp-layout-color1, white);\n",
              "  --xr-background-color-row-odd: var(--jp-layout-color2, #eeeeee);\n",
              "}\n",
              "\n",
              "html[theme=dark],\n",
              "body[data-theme=dark],\n",
              "body.vscode-dark {\n",
              "  --xr-font-color0: rgba(255, 255, 255, 1);\n",
              "  --xr-font-color2: rgba(255, 255, 255, 0.54);\n",
              "  --xr-font-color3: rgba(255, 255, 255, 0.38);\n",
              "  --xr-border-color: #1F1F1F;\n",
              "  --xr-disabled-color: #515151;\n",
              "  --xr-background-color: #111111;\n",
              "  --xr-background-color-row-even: #111111;\n",
              "  --xr-background-color-row-odd: #313131;\n",
              "}\n",
              "\n",
              ".xr-wrap {\n",
              "  display: block !important;\n",
              "  min-width: 300px;\n",
              "  max-width: 700px;\n",
              "}\n",
              "\n",
              ".xr-text-repr-fallback {\n",
              "  /* fallback to plain text repr when CSS is not injected (untrusted notebook) */\n",
              "  display: none;\n",
              "}\n",
              "\n",
              ".xr-header {\n",
              "  padding-top: 6px;\n",
              "  padding-bottom: 6px;\n",
              "  margin-bottom: 4px;\n",
              "  border-bottom: solid 1px var(--xr-border-color);\n",
              "}\n",
              "\n",
              ".xr-header > div,\n",
              ".xr-header > ul {\n",
              "  display: inline;\n",
              "  margin-top: 0;\n",
              "  margin-bottom: 0;\n",
              "}\n",
              "\n",
              ".xr-obj-type,\n",
              ".xr-array-name {\n",
              "  margin-left: 2px;\n",
              "  margin-right: 10px;\n",
              "}\n",
              "\n",
              ".xr-obj-type {\n",
              "  color: var(--xr-font-color2);\n",
              "}\n",
              "\n",
              ".xr-sections {\n",
              "  padding-left: 0 !important;\n",
              "  display: grid;\n",
              "  grid-template-columns: 150px auto auto 1fr 20px 20px;\n",
              "}\n",
              "\n",
              ".xr-section-item {\n",
              "  display: contents;\n",
              "}\n",
              "\n",
              ".xr-section-item input {\n",
              "  display: none;\n",
              "}\n",
              "\n",
              ".xr-section-item input + label {\n",
              "  color: var(--xr-disabled-color);\n",
              "}\n",
              "\n",
              ".xr-section-item input:enabled + label {\n",
              "  cursor: pointer;\n",
              "  color: var(--xr-font-color2);\n",
              "}\n",
              "\n",
              ".xr-section-item input:enabled + label:hover {\n",
              "  color: var(--xr-font-color0);\n",
              "}\n",
              "\n",
              ".xr-section-summary {\n",
              "  grid-column: 1;\n",
              "  color: var(--xr-font-color2);\n",
              "  font-weight: 500;\n",
              "}\n",
              "\n",
              ".xr-section-summary > span {\n",
              "  display: inline-block;\n",
              "  padding-left: 0.5em;\n",
              "}\n",
              "\n",
              ".xr-section-summary-in:disabled + label {\n",
              "  color: var(--xr-font-color2);\n",
              "}\n",
              "\n",
              ".xr-section-summary-in + label:before {\n",
              "  display: inline-block;\n",
              "  content: '►';\n",
              "  font-size: 11px;\n",
              "  width: 15px;\n",
              "  text-align: center;\n",
              "}\n",
              "\n",
              ".xr-section-summary-in:disabled + label:before {\n",
              "  color: var(--xr-disabled-color);\n",
              "}\n",
              "\n",
              ".xr-section-summary-in:checked + label:before {\n",
              "  content: '▼';\n",
              "}\n",
              "\n",
              ".xr-section-summary-in:checked + label > span {\n",
              "  display: none;\n",
              "}\n",
              "\n",
              ".xr-section-summary,\n",
              ".xr-section-inline-details {\n",
              "  padding-top: 4px;\n",
              "  padding-bottom: 4px;\n",
              "}\n",
              "\n",
              ".xr-section-inline-details {\n",
              "  grid-column: 2 / -1;\n",
              "}\n",
              "\n",
              ".xr-section-details {\n",
              "  display: none;\n",
              "  grid-column: 1 / -1;\n",
              "  margin-bottom: 5px;\n",
              "}\n",
              "\n",
              ".xr-section-summary-in:checked ~ .xr-section-details {\n",
              "  display: contents;\n",
              "}\n",
              "\n",
              ".xr-array-wrap {\n",
              "  grid-column: 1 / -1;\n",
              "  display: grid;\n",
              "  grid-template-columns: 20px auto;\n",
              "}\n",
              "\n",
              ".xr-array-wrap > label {\n",
              "  grid-column: 1;\n",
              "  vertical-align: top;\n",
              "}\n",
              "\n",
              ".xr-preview {\n",
              "  color: var(--xr-font-color3);\n",
              "}\n",
              "\n",
              ".xr-array-preview,\n",
              ".xr-array-data {\n",
              "  padding: 0 5px !important;\n",
              "  grid-column: 2;\n",
              "}\n",
              "\n",
              ".xr-array-data,\n",
              ".xr-array-in:checked ~ .xr-array-preview {\n",
              "  display: none;\n",
              "}\n",
              "\n",
              ".xr-array-in:checked ~ .xr-array-data,\n",
              ".xr-array-preview {\n",
              "  display: inline-block;\n",
              "}\n",
              "\n",
              ".xr-dim-list {\n",
              "  display: inline-block !important;\n",
              "  list-style: none;\n",
              "  padding: 0 !important;\n",
              "  margin: 0;\n",
              "}\n",
              "\n",
              ".xr-dim-list li {\n",
              "  display: inline-block;\n",
              "  padding: 0;\n",
              "  margin: 0;\n",
              "}\n",
              "\n",
              ".xr-dim-list:before {\n",
              "  content: '(';\n",
              "}\n",
              "\n",
              ".xr-dim-list:after {\n",
              "  content: ')';\n",
              "}\n",
              "\n",
              ".xr-dim-list li:not(:last-child):after {\n",
              "  content: ',';\n",
              "  padding-right: 5px;\n",
              "}\n",
              "\n",
              ".xr-has-index {\n",
              "  font-weight: bold;\n",
              "}\n",
              "\n",
              ".xr-var-list,\n",
              ".xr-var-item {\n",
              "  display: contents;\n",
              "}\n",
              "\n",
              ".xr-var-item > div,\n",
              ".xr-var-item label,\n",
              ".xr-var-item > .xr-var-name span {\n",
              "  background-color: var(--xr-background-color-row-even);\n",
              "  margin-bottom: 0;\n",
              "}\n",
              "\n",
              ".xr-var-item > .xr-var-name:hover span {\n",
              "  padding-right: 5px;\n",
              "}\n",
              "\n",
              ".xr-var-list > li:nth-child(odd) > div,\n",
              ".xr-var-list > li:nth-child(odd) > label,\n",
              ".xr-var-list > li:nth-child(odd) > .xr-var-name span {\n",
              "  background-color: var(--xr-background-color-row-odd);\n",
              "}\n",
              "\n",
              ".xr-var-name {\n",
              "  grid-column: 1;\n",
              "}\n",
              "\n",
              ".xr-var-dims {\n",
              "  grid-column: 2;\n",
              "}\n",
              "\n",
              ".xr-var-dtype {\n",
              "  grid-column: 3;\n",
              "  text-align: right;\n",
              "  color: var(--xr-font-color2);\n",
              "}\n",
              "\n",
              ".xr-var-preview {\n",
              "  grid-column: 4;\n",
              "}\n",
              "\n",
              ".xr-index-preview {\n",
              "  grid-column: 2 / 5;\n",
              "  color: var(--xr-font-color2);\n",
              "}\n",
              "\n",
              ".xr-var-name,\n",
              ".xr-var-dims,\n",
              ".xr-var-dtype,\n",
              ".xr-preview,\n",
              ".xr-attrs dt {\n",
              "  white-space: nowrap;\n",
              "  overflow: hidden;\n",
              "  text-overflow: ellipsis;\n",
              "  padding-right: 10px;\n",
              "}\n",
              "\n",
              ".xr-var-name:hover,\n",
              ".xr-var-dims:hover,\n",
              ".xr-var-dtype:hover,\n",
              ".xr-attrs dt:hover {\n",
              "  overflow: visible;\n",
              "  width: auto;\n",
              "  z-index: 1;\n",
              "}\n",
              "\n",
              ".xr-var-attrs,\n",
              ".xr-var-data,\n",
              ".xr-index-data {\n",
              "  display: none;\n",
              "  background-color: var(--xr-background-color) !important;\n",
              "  padding-bottom: 5px !important;\n",
              "}\n",
              "\n",
              ".xr-var-attrs-in:checked ~ .xr-var-attrs,\n",
              ".xr-var-data-in:checked ~ .xr-var-data,\n",
              ".xr-index-data-in:checked ~ .xr-index-data {\n",
              "  display: block;\n",
              "}\n",
              "\n",
              ".xr-var-data > table {\n",
              "  float: right;\n",
              "}\n",
              "\n",
              ".xr-var-name span,\n",
              ".xr-var-data,\n",
              ".xr-index-name div,\n",
              ".xr-index-data,\n",
              ".xr-attrs {\n",
              "  padding-left: 25px !important;\n",
              "}\n",
              "\n",
              ".xr-attrs,\n",
              ".xr-var-attrs,\n",
              ".xr-var-data,\n",
              ".xr-index-data {\n",
              "  grid-column: 1 / -1;\n",
              "}\n",
              "\n",
              "dl.xr-attrs {\n",
              "  padding: 0;\n",
              "  margin: 0;\n",
              "  display: grid;\n",
              "  grid-template-columns: 125px auto;\n",
              "}\n",
              "\n",
              ".xr-attrs dt,\n",
              ".xr-attrs dd {\n",
              "  padding: 0;\n",
              "  margin: 0;\n",
              "  float: left;\n",
              "  padding-right: 10px;\n",
              "  width: auto;\n",
              "}\n",
              "\n",
              ".xr-attrs dt {\n",
              "  font-weight: normal;\n",
              "  grid-column: 1;\n",
              "}\n",
              "\n",
              ".xr-attrs dt:hover span {\n",
              "  display: inline-block;\n",
              "  background: var(--xr-background-color);\n",
              "  padding-right: 10px;\n",
              "}\n",
              "\n",
              ".xr-attrs dd {\n",
              "  grid-column: 2;\n",
              "  white-space: pre-wrap;\n",
              "  word-break: break-all;\n",
              "}\n",
              "\n",
              ".xr-icon-database,\n",
              ".xr-icon-file-text2,\n",
              ".xr-no-icon {\n",
              "  display: inline-block;\n",
              "  vertical-align: middle;\n",
              "  width: 1em;\n",
              "  height: 1.5em !important;\n",
              "  stroke-width: 0;\n",
              "  stroke: currentColor;\n",
              "  fill: currentColor;\n",
              "}\n",
              "</style><pre class='xr-text-repr-fallback'>&lt;xarray.DataArray &#x27;thetas&#x27; (thetas_dim_0: 9)&gt;\n",
              "array([1.68406934, 0.14858885, 1.27136152, 0.64216146, 0.28356934,\n",
              "       1.77629435, 1.01802985, 0.01017179, 0.79584052])\n",
              "Coordinates:\n",
              "  * thetas_dim_0  (thetas_dim_0) int64 0 1 2 3 4 5 6 7 8</pre><div class='xr-wrap' style='display:none'><div class='xr-header'><div class='xr-obj-type'>xarray.DataArray</div><div class='xr-array-name'>'thetas'</div><ul class='xr-dim-list'><li><span class='xr-has-index'>thetas_dim_0</span>: 9</li></ul></div><ul class='xr-sections'><li class='xr-section-item'><div class='xr-array-wrap'><input id='section-43d459f7-8db1-496a-a6e9-14a83a680027' class='xr-array-in' type='checkbox' checked><label for='section-43d459f7-8db1-496a-a6e9-14a83a680027' title='Show/hide data repr'><svg class='icon xr-icon-database'><use xlink:href='#icon-database'></use></svg></label><div class='xr-array-preview xr-preview'><span>1.684 0.1486 1.271 0.6422 0.2836 1.776 1.018 0.01017 0.7958</span></div><div class='xr-array-data'><pre>array([1.68406934, 0.14858885, 1.27136152, 0.64216146, 0.28356934,\n",
              "       1.77629435, 1.01802985, 0.01017179, 0.79584052])</pre></div></div></li><li class='xr-section-item'><input id='section-39815412-b282-4573-be19-aaad65a5716e' class='xr-section-summary-in' type='checkbox'  checked><label for='section-39815412-b282-4573-be19-aaad65a5716e' class='xr-section-summary' >Coordinates: <span>(1)</span></label><div class='xr-section-inline-details'></div><div class='xr-section-details'><ul class='xr-var-list'><li class='xr-var-item'><div class='xr-var-name'><span class='xr-has-index'>thetas_dim_0</span></div><div class='xr-var-dims'>(thetas_dim_0)</div><div class='xr-var-dtype'>int64</div><div class='xr-var-preview xr-preview'>0 1 2 3 4 5 6 7 8</div><input id='attrs-57859a0f-b04c-4805-a819-e2337c6314de' class='xr-var-attrs-in' type='checkbox' disabled><label for='attrs-57859a0f-b04c-4805-a819-e2337c6314de' title='Show/Hide attributes'><svg class='icon xr-icon-file-text2'><use xlink:href='#icon-file-text2'></use></svg></label><input id='data-0d32fa22-5d33-4a31-a32b-600da130fde5' class='xr-var-data-in' type='checkbox'><label for='data-0d32fa22-5d33-4a31-a32b-600da130fde5' title='Show/Hide data repr'><svg class='icon xr-icon-database'><use xlink:href='#icon-database'></use></svg></label><div class='xr-var-attrs'><dl class='xr-attrs'></dl></div><div class='xr-var-data'><pre>array([0, 1, 2, 3, 4, 5, 6, 7, 8])</pre></div></li></ul></div></li><li class='xr-section-item'><input id='section-f67ebdff-b4d3-4d40-b824-6bba05e166b4' class='xr-section-summary-in' type='checkbox'  ><label for='section-f67ebdff-b4d3-4d40-b824-6bba05e166b4' class='xr-section-summary' >Indexes: <span>(1)</span></label><div class='xr-section-inline-details'></div><div class='xr-section-details'><ul class='xr-var-list'><li class='xr-var-item'><div class='xr-index-name'><div>thetas_dim_0</div></div><div class='xr-index-preview'>PandasIndex</div><div></div><input id='index-d444107e-fd23-4f18-b630-0c6a8c3c5a6f' class='xr-index-data-in' type='checkbox'/><label for='index-d444107e-fd23-4f18-b630-0c6a8c3c5a6f' title='Show/Hide index repr'><svg class='icon xr-icon-database'><use xlink:href='#icon-database'></use></svg></label><div class='xr-index-data'><pre>PandasIndex(Int64Index([0, 1, 2, 3, 4, 5, 6, 7, 8], dtype=&#x27;int64&#x27;, name=&#x27;thetas_dim_0&#x27;))</pre></div></li></ul></div></li><li class='xr-section-item'><input id='section-3aaaa5a4-8ffa-414e-a83e-88b9c4071a50' class='xr-section-summary-in' type='checkbox' disabled ><label for='section-3aaaa5a4-8ffa-414e-a83e-88b9c4071a50' class='xr-section-summary'  title='Expand/collapse section'>Attributes: <span>(0)</span></label><div class='xr-section-inline-details'></div><div class='xr-section-details'><dl class='xr-attrs'></dl></div></li></ul></div></div>"
            ]
          },
          "metadata": {},
          "execution_count": 24
        }
      ]
    },
    {
      "cell_type": "code",
      "source": [
        "# Predictions"
      ],
      "metadata": {
        "id": "P8beEYxpFJn3"
      },
      "execution_count": 25,
      "outputs": []
    },
    {
      "cell_type": "code",
      "source": [
        "# now that we have our posterior, choose action based on the posterior\n",
        "posterior_mean_thetas = trace.posterior['thetas'].mean(dim=['chain', 'draw'])\n",
        "posterior_mean_bias = trace.posterior['b0'].mean(dim=['chain', 'draw']).item() #use item() to make it a scalar\n"
      ],
      "metadata": {
        "id": "6Pxmakajq_fW"
      },
      "execution_count": 26,
      "outputs": []
    },
    {
      "cell_type": "code",
      "source": [
        "posterior_mean_thetas.shape"
      ],
      "metadata": {
        "colab": {
          "base_uri": "https://localhost:8080/"
        },
        "id": "ZfZTjqX2Gpic",
        "outputId": "97ac0643-362d-477b-aef4-6e6262d2ce7d"
      },
      "execution_count": 27,
      "outputs": [
        {
          "output_type": "execute_result",
          "data": {
            "text/plain": [
              "(9,)"
            ]
          },
          "metadata": {},
          "execution_count": 27
        }
      ]
    },
    {
      "cell_type": "code",
      "source": [
        "# posterior_mean_bias = trace.posterior['b0'].mean()\n",
        "posterior_mean_bias\n",
        "# trace.posterior['b0']"
      ],
      "metadata": {
        "colab": {
          "base_uri": "https://localhost:8080/"
        },
        "id": "JnlgRk5uF9EW",
        "outputId": "717ed38b-bc52-403e-8a43-42aaf7f4200b"
      },
      "execution_count": 28,
      "outputs": [
        {
          "output_type": "execute_result",
          "data": {
            "text/plain": [
              "-1.44451697011685"
            ]
          },
          "metadata": {},
          "execution_count": 28
        }
      ]
    },
    {
      "cell_type": "code",
      "source": [
        "# perform inference on the test set\n",
        "test_predictions_hx = np.dot(X_test, posterior_mean_thetas) + posterior_mean_bias\n",
        "test_predictions_hx"
      ],
      "metadata": {
        "colab": {
          "base_uri": "https://localhost:8080/"
        },
        "id": "uKMBVWIqFg0S",
        "outputId": "83ae4cc1-2432-4cd0-be90-2c632bba7386"
      },
      "execution_count": 29,
      "outputs": [
        {
          "output_type": "execute_result",
          "data": {
            "text/plain": [
              "array([-7.06405538, -5.40694627, -5.58766141,  3.18713554, -5.58766141,\n",
              "       -6.7847001 , -4.91728267,  6.33941906,  5.73409994, -1.39187146,\n",
              "       -6.18618075,  0.93970758, -6.00546561, -4.60610356, -6.00546561,\n",
              "        9.46976497, -7.62030851,  9.55306884,  4.00982354,  1.84678375,\n",
              "       14.26534625, -7.33065876,  0.32860048, -7.62030851,  5.59520819,\n",
              "       -3.92626457, -5.82475047,  7.51016354, -4.97247491,  4.83676305,\n",
              "       -6.00213218, -5.37463773, -5.40694627,  5.03993166, -7.62030851,\n",
              "       -4.80509349, -6.42326982, 14.44261808, -7.74846297,  7.20145891,\n",
              "       -6.18618075, -3.93143767,  6.76226079, -7.20250431, -6.00546561,\n",
              "       -4.80842692, -4.05998871, -1.22216479, -5.91820828, -3.5096795 ,\n",
              "       -4.38952553, -6.7847001 ,  8.38064684, -6.91285456, -1.50843915,\n",
              "       -5.1389738 , -4.80842692,  5.83472268, -6.42326982, -5.58766141,\n",
              "       -6.18618075, -6.47446142,  7.08125505, -4.48591209, -6.91285456,\n",
              "       -6.55142427,  7.7985625 ,  3.67231804, -3.89317693, -5.31387581,\n",
              "        5.66052412, -5.09688248,  5.90227159, -5.18188989, -5.82475047,\n",
              "       -5.80433643, -7.62030851,  5.06518189, -6.13154505, -7.62030851,\n",
              "       -6.7847001 , -6.7847001 , -7.62030851, -4.39062271, -6.18618075,\n",
              "       15.46118534, -0.12302669, -6.4758305 , -6.13362007, -6.78136667,\n",
              "       -6.70366233, -6.97744793,  6.4565429 , -3.96658124, -3.95222957,\n",
              "        5.16604614, -5.58766141, -5.58766141, -4.51877717, -4.4950297 ,\n",
              "       -6.13362007, -4.39062271, -6.14797173,  4.75638022,  4.39888809,\n",
              "       -5.57736694,  4.12062254, -6.38244174, -4.80842692,  0.45688818,\n",
              "        2.30026084, -4.0288194 , -2.36768977, -2.57061194, -5.12877267,\n",
              "        6.38572999, -6.00546561, -5.40694627, -6.40023673, -6.34630696,\n",
              "       -6.13362007,  6.87991871, -6.91285456, -7.02178916,  4.89091734,\n",
              "        1.57317988, -5.55535287, -4.02550488,  1.88840634,  2.44517584,\n",
              "       -7.19583745, -7.17019577,  4.30510297, -6.42326982,  8.17418699,\n",
              "       -6.7847001 ,  5.13372461, -3.68086762, -5.96112438, -4.66477294])"
            ]
          },
          "metadata": {},
          "execution_count": 29
        }
      ]
    },
    {
      "cell_type": "code",
      "source": [
        "# then, need to fit this to the sigmoid transfer function?\n",
        "test_probabilities = 1 / (1 + np.exp(-test_predictions_hx))\n",
        "test_probabilities"
      ],
      "metadata": {
        "colab": {
          "base_uri": "https://localhost:8080/"
        },
        "id": "MvpbwbdtIETT",
        "outputId": "eb2ef682-1e05-457d-8ec4-6900f38800cc"
      },
      "execution_count": 30,
      "outputs": [
        {
          "output_type": "execute_result",
          "data": {
            "text/plain": [
              "array([8.54571558e-04, 4.46528806e-03, 3.72980924e-03, 9.60347285e-01,\n",
              "       3.72980924e-03, 1.12966923e-03, 7.26581354e-03, 9.98237783e-01,\n",
              "       9.96776632e-01, 1.99109157e-01, 2.05344520e-03, 7.19040586e-01,\n",
              "       2.45917877e-03, 9.89184450e-03, 2.45917877e-03, 9.99922856e-01,\n",
              "       4.90150152e-04, 9.99929022e-01, 9.82186481e-01, 8.63749036e-01,\n",
              "       9.99999362e-01, 6.54712932e-04, 5.81418813e-01, 4.90150152e-04,\n",
              "       9.96298129e-01, 1.93359370e-02, 2.94484334e-03, 9.99452808e-01,\n",
              "       6.87834628e-03, 9.92129742e-01, 2.46736968e-03, 4.61123471e-03,\n",
              "       4.46528806e-03, 9.93567455e-01, 4.90150152e-04, 8.12143769e-03,\n",
              "       1.62070856e-03, 9.99999466e-01, 4.31219084e-04, 9.99255058e-01,\n",
              "       2.05344520e-03, 1.92380879e-02, 9.98844725e-01, 7.44164276e-04,\n",
              "       2.45917877e-03, 8.09462930e-03, 1.69567237e-02, 2.27555712e-01,\n",
              "       2.68279883e-03, 2.90380710e-02, 1.22545766e-02, 1.12966923e-03,\n",
              "       9.99770791e-01, 9.93924831e-04, 1.81170226e-01, 5.82952139e-03,\n",
              "       8.09462930e-03, 9.97084292e-01, 1.62070856e-03, 3.72980924e-03,\n",
              "       2.05344520e-03, 1.53995427e-03, 9.99159989e-01, 1.11410845e-02,\n",
              "       9.93924831e-04, 1.42604367e-03, 9.99589844e-01, 9.75212552e-01,\n",
              "       1.99734274e-02, 4.89869450e-03, 9.96531381e-01, 6.07860750e-03,\n",
              "       9.97274221e-01, 5.58600144e-03, 2.94484334e-03, 3.00539475e-03,\n",
              "       4.90150152e-04, 9.93726838e-01, 2.16850797e-03, 4.90150152e-04,\n",
              "       1.12966923e-03, 1.12966923e-03, 4.90150152e-04, 1.22413029e-02,\n",
              "       2.05344520e-03, 9.99999807e-01, 4.69282062e-01, 1.53785063e-03,\n",
              "       2.16402268e-03, 1.13343691e-03, 1.22490989e-03, 9.31811349e-04,\n",
              "       9.98432247e-01, 1.85860829e-02, 1.88496832e-02, 9.94325297e-01,\n",
              "       3.72980924e-03, 3.72980924e-03, 1.07847679e-02, 1.10410825e-02,\n",
              "       2.16402268e-03, 1.22413029e-02, 2.13325293e-03, 9.91476602e-01,\n",
              "       9.87858236e-01, 3.76825852e-03, 9.84024941e-01, 1.68813433e-03,\n",
              "       8.09462930e-03, 6.12275706e-01, 9.08898639e-01, 1.74841899e-02,\n",
              "       8.56699279e-02, 7.10539020e-02, 5.88894146e-03, 9.98317398e-01,\n",
              "       2.45917877e-03, 4.46528806e-03, 1.65840909e-03, 1.75014151e-03,\n",
              "       2.16402268e-03, 9.98972829e-01, 9.93924831e-04, 8.91432362e-04,\n",
              "       9.92541521e-01, 8.28236453e-01, 3.85180999e-03, 1.75412195e-02,\n",
              "       8.68573715e-01, 9.20207953e-01, 7.49138360e-04, 7.68580967e-04,\n",
              "       9.86680314e-01, 1.62070856e-03, 9.99718244e-01, 1.12966923e-03,\n",
              "       9.94139978e-01, 2.45816165e-02, 2.57038887e-03, 9.33345317e-03])"
            ]
          },
          "metadata": {},
          "execution_count": 30
        }
      ]
    },
    {
      "cell_type": "code",
      "source": [
        "# tunable additional parameter, for classification it can be just > .5\n",
        "threshold = 0.5\n",
        "\n",
        "predicted_labels = (test_probabilities >= threshold).astype(int)\n",
        "predicted_labels"
      ],
      "metadata": {
        "colab": {
          "base_uri": "https://localhost:8080/"
        },
        "id": "u3Y8OCdvsmlQ",
        "outputId": "e1c572fa-d8e6-4a48-8227-23b36ff06940"
      },
      "execution_count": 31,
      "outputs": [
        {
          "output_type": "execute_result",
          "data": {
            "text/plain": [
              "array([0, 0, 0, 1, 0, 0, 0, 1, 1, 0, 0, 1, 0, 0, 0, 1, 0, 1, 1, 1, 1, 0,\n",
              "       1, 0, 1, 0, 0, 1, 0, 1, 0, 0, 0, 1, 0, 0, 0, 1, 0, 1, 0, 0, 1, 0,\n",
              "       0, 0, 0, 0, 0, 0, 0, 0, 1, 0, 0, 0, 0, 1, 0, 0, 0, 0, 1, 0, 0, 0,\n",
              "       1, 1, 0, 0, 1, 0, 1, 0, 0, 0, 0, 1, 0, 0, 0, 0, 0, 0, 0, 1, 0, 0,\n",
              "       0, 0, 0, 0, 1, 0, 0, 1, 0, 0, 0, 0, 0, 0, 0, 1, 1, 0, 1, 0, 0, 1,\n",
              "       1, 0, 0, 0, 0, 1, 0, 0, 0, 0, 0, 1, 0, 0, 1, 1, 0, 0, 1, 1, 0, 0,\n",
              "       1, 0, 1, 0, 1, 0, 0, 0])"
            ]
          },
          "metadata": {},
          "execution_count": 31
        }
      ]
    },
    {
      "cell_type": "code",
      "source": [
        "from sklearn.metrics import classification_report, confusion_matrix, accuracy_score, precision_score, recall_score, f1_score, roc_auc_score\n"
      ],
      "metadata": {
        "id": "LNI5-HjRK39a"
      },
      "execution_count": 32,
      "outputs": []
    },
    {
      "cell_type": "code",
      "source": [
        "# Assuming y_test contains the true labels\n",
        "\n",
        "# Accuracy\n",
        "accuracy = accuracy_score(y_test, predicted_labels)\n",
        "print(f'Accuracy: {accuracy}')\n",
        "\n",
        "# Precision\n",
        "precision = precision_score(y_test, predicted_labels)\n",
        "print(f'Precision: {precision}')\n",
        "\n",
        "# Recall\n",
        "recall = recall_score(y_test, predicted_labels)\n",
        "print(f'Recall: {recall}')\n",
        "\n",
        "# F1 Score\n",
        "f1 = f1_score(y_test, predicted_labels)\n",
        "print(f'F1 Score: {f1}')\n",
        "\n",
        "# ROC-AUC Score (if you have probabilities)\n",
        "roc_auc = roc_auc_score(y_test, test_predictions_hx)  # Use probabilities, not labels\n",
        "print(f'ROC-AUC Score: {roc_auc}')"
      ],
      "metadata": {
        "colab": {
          "base_uri": "https://localhost:8080/"
        },
        "id": "WfRjzoIKIy8t",
        "outputId": "981725f2-9300-4b86-aee3-75658ee29b28"
      },
      "execution_count": 33,
      "outputs": [
        {
          "output_type": "stream",
          "name": "stdout",
          "text": [
            "Accuracy: 0.9642857142857143\n",
            "Precision: 0.9761904761904762\n",
            "Recall: 0.9111111111111111\n",
            "F1 Score: 0.9425287356321839\n",
            "ROC-AUC Score: 0.9967251461988305\n"
          ]
        }
      ]
    },
    {
      "cell_type": "code",
      "source": [
        "# Confusion matrix\n",
        "print(confusion_matrix(y_test, predicted_labels))\n",
        "\n",
        "# Classification report\n",
        "print(classification_report(y_test, predicted_labels))\n",
        "\n",
        "# Accuracy score\n",
        "print(\"Accuracy:\", accuracy_score(y_test, predicted_labels))\n",
        "\n",
        "# ROC-AUC score (uses probabbilities)\n",
        "roc_auc = roc_auc_score(y_test, test_predictions_hx)  # use probabilities, not labels\n",
        "print(\"ROC-AUC Score:\", roc_auc)"
      ],
      "metadata": {
        "colab": {
          "base_uri": "https://localhost:8080/"
        },
        "id": "RmRebgQLKyxM",
        "outputId": "636fef68-99ff-4f7b-dece-ee4cbb728624"
      },
      "execution_count": 34,
      "outputs": [
        {
          "output_type": "stream",
          "name": "stdout",
          "text": [
            "[[94  1]\n",
            " [ 4 41]]\n",
            "              precision    recall  f1-score   support\n",
            "\n",
            "           0       0.96      0.99      0.97        95\n",
            "           1       0.98      0.91      0.94        45\n",
            "\n",
            "    accuracy                           0.96       140\n",
            "   macro avg       0.97      0.95      0.96       140\n",
            "weighted avg       0.96      0.96      0.96       140\n",
            "\n",
            "Accuracy: 0.9642857142857143\n",
            "ROC-AUC Score: 0.9967251461988305\n"
          ]
        }
      ]
    }
  ]
}